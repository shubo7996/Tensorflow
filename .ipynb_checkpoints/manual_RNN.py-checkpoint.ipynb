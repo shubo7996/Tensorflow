{
 "cells": [
  {
   "cell_type": "code",
   "execution_count": 3,
   "metadata": {},
   "outputs": [],
   "source": [
    "import numpy as np\n",
    "import tensorflow as tf\n",
    "import matplotlib.pyplot as plt\n",
    "#%matplot inline"
   ]
  },
  {
   "cell_type": "code",
   "execution_count": 4,
   "metadata": {},
   "outputs": [],
   "source": [
    "#Constants\n",
    "no_of_neurons = 3\n",
    "num_inputs = 2 "
   ]
  },
  {
   "cell_type": "code",
   "execution_count": 5,
   "metadata": {},
   "outputs": [],
   "source": [
    "#Placeholders\n",
    "x0 = tf.placeholder(tf.float32,[None , num_inputs])\n",
    "x1 = tf.placeholder(tf.float32,[None , num_inputs])"
   ]
  },
  {
   "cell_type": "code",
   "execution_count": 6,
   "metadata": {},
   "outputs": [],
   "source": [
    "#Variables\n",
    "Wx = tf.Variable(tf.random_normal(shape=[num_inputs, no_of_neurons]))\n",
    "Wy = tf.Variable(tf.random_normal(shape=[no_of_neurons, no_of_neurons]))\n",
    "b = tf.Variable(tf.zeros([1, no_of_neurons]))"
   ]
  },
  {
   "cell_type": "code",
   "execution_count": 7,
   "metadata": {},
   "outputs": [],
   "source": [
    "#Graph\n",
    "y0 = tf.tanh(tf.matmul(x0,Wx) + b)\n",
    "y1 = tf.tanh(tf.matmul(y0,Wy) + tf.matmul(x1,Wx) + b)"
   ]
  },
  {
   "cell_type": "code",
   "execution_count": 8,
   "metadata": {},
   "outputs": [],
   "source": [
    "init = tf.global_variables_initializer()"
   ]
  },
  {
   "cell_type": "code",
   "execution_count": 9,
   "metadata": {},
   "outputs": [],
   "source": [
    "#create data\n",
    "\n",
    "#timestamp 0\n",
    "x0_batch = np.array([[0,1],[3,4],[6,7],[8,9]])\n",
    "#timestamp 1\n",
    "x1_batch = np.array([[100,101],[103,104],[106,107],[108,109]])\n",
    "                    "
   ]
  },
  {
   "cell_type": "code",
   "execution_count": 10,
   "metadata": {},
   "outputs": [],
   "source": [
    "with tf.Session() as sess:\n",
    "    sess.run(init)\n",
    "    y0_output_vals , y1_output_vals = sess.run([y0,y1],feed_dict={x0:x0_batch,x1:x1_batch})"
   ]
  },
  {
   "cell_type": "code",
   "execution_count": 11,
   "metadata": {},
   "outputs": [
    {
     "data": {
      "text/plain": [
       "array([[ 0.7334213 ,  0.9382007 , -0.9164404 ],\n",
       "       [ 0.9995554 ,  0.99995023, -0.9999952 ],\n",
       "       [ 0.9999995 ,  0.99999994, -1.        ],\n",
       "       [ 1.        ,  1.        , -1.        ]], dtype=float32)"
      ]
     },
     "execution_count": 11,
     "metadata": {},
     "output_type": "execute_result"
    }
   ],
   "source": [
    "y0_output_vals"
   ]
  },
  {
   "cell_type": "code",
   "execution_count": null,
   "metadata": {},
   "outputs": [],
   "source": []
  }
 ],
 "metadata": {
  "kernelspec": {
   "display_name": "Python 3",
   "language": "python",
   "name": "python3"
  },
  "language_info": {
   "codemirror_mode": {
    "name": "ipython",
    "version": 3
   },
   "file_extension": ".py",
   "mimetype": "text/x-python",
   "name": "python",
   "nbconvert_exporter": "python",
   "pygments_lexer": "ipython3",
   "version": "3.6.5"
  }
 },
 "nbformat": 4,
 "nbformat_minor": 2
}
